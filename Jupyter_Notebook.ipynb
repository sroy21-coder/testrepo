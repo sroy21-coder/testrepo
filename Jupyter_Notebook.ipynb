{
 "cells": [
  {
   "cell_type": "markdown",
   "metadata": {},
   "source": [
    "<center>\n",
    "    <img src=\"https://cf-courses-data.s3.us.cloud-object-storage.appdomain.cloud/IBMDeveloperSkillsNetwork-DS0105EN-SkillsNetwork/labs/Module2/images/SN_web_lightmode.png\" width=\"300\" alt=\"cognitiveclass.ai logo\">\n",
    "</center>\n"
   ]
  },
  {
   "cell_type": "markdown",
   "metadata": {},
   "source": [
    "<h1>My Jupyter Notebook on IBM Watson Studio</h1>"
   ]
  },
  {
   "cell_type": "markdown",
   "metadata": {},
   "source": [
    "<p><strong>Sumanta Roy</strong>\n",
    "   <br> My current Occupation is Test Engineer and I'm aiming to be a Successful Data Scientist and provide the best Business Solution Ever</p>"
   ]
  },
  {
   "cell_type": "markdown",
   "metadata": {},
   "source": [
    "<p><em>Data Science leads us to the future. And I want my place in the future. That is why I am interested in DS.</em></p>"
   ]
  },
  {
   "cell_type": "markdown",
   "metadata": {},
   "source": [
    "<p><h3>In next line only addition is shown \"1+1\"</h3></p>"
   ]
  },
  {
   "cell_type": "code",
   "execution_count": 5,
   "metadata": {},
   "outputs": [
    {
     "data": {
      "text/plain": [
       "2"
      ]
     },
     "execution_count": 5,
     "metadata": {},
     "output_type": "execute_result"
    }
   ],
   "source": [
    "1+1"
   ]
  },
  {
   "cell_type": "markdown",
   "metadata": {},
   "source": [
    "<strong>Table</strong>\n",
    "| header | header |\n",
    "| ------ | ------ |\n",
    "| cell | cell |\n",
    "| cell | cell |\n",
    "| cell | cell |\n",
    "\n",
    "<strong>Strike Through</strong>\n",
    "<p><strike>This text is example of Strike through</strike></p>\n",
    "\n",
    "<strong>Bulleted Lists</strong>\n",
    "<ul>\n",
    "    <li>Class 1</li>\n",
    "    <li>Class 2</li>\n",
    "    <li>Class 3</li>\n",
    "</ul>\n",
    "\n",
    "<strong>Google Search Engine</strong>\n",
    "<div>\n",
    "    <a href=\"www.google.com\">Google</a>\n",
    "</div>"
   ]
  },
  {
   "cell_type": "code",
   "execution_count": null,
   "metadata": {},
   "outputs": [],
   "source": []
  }
 ],
 "metadata": {
  "kernelspec": {
   "display_name": "Python",
   "language": "python",
   "name": "conda-env-python-py"
  },
  "language_info": {
   "codemirror_mode": {
    "name": "ipython",
    "version": 3
   },
   "file_extension": ".py",
   "mimetype": "text/x-python",
   "name": "python",
   "nbconvert_exporter": "python",
   "pygments_lexer": "ipython3",
   "version": "3.7.12"
  }
 },
 "nbformat": 4,
 "nbformat_minor": 4
}
